{
 "cells": [
  {
   "cell_type": "code",
   "execution_count": 1,
   "id": "33966ce6",
   "metadata": {},
   "outputs": [],
   "source": [
    "import numpy as np\n",
    "import pandas as pd \n"
   ]
  },
  {
   "cell_type": "code",
   "execution_count": 2,
   "id": "955e6f7c",
   "metadata": {},
   "outputs": [],
   "source": [
    "\n",
    "dataset = pd.read_csv('ds1_train.csv')\n",
    "X_train = dataset.drop('y', axis=1) \n",
    "Y_train = dataset['y']\n"
   ]
  },
  {
   "cell_type": "code",
   "execution_count": 3,
   "id": "28ffaaa2",
   "metadata": {},
   "outputs": [],
   "source": [
    "\n",
    "dataset = pd.read_csv('ds1_test.csv')\n",
    "X_test = dataset.drop('y', axis=1) \n",
    "Y_test = dataset['y']\n"
   ]
  },
  {
   "cell_type": "code",
   "execution_count": 4,
   "id": "8e3d978e",
   "metadata": {},
   "outputs": [],
   "source": [
    "X_train = X_train.values\n",
    "Y_train = Y_train.values\n",
    "X_test = X_test.values\n",
    "Y_test = Y_test.values\n",
    "#converting the dataframes into numpy arrays"
   ]
  },
  {
   "cell_type": "code",
   "execution_count": 5,
   "id": "2804310b",
   "metadata": {},
   "outputs": [],
   "source": [
    "X_train = X_train.T\n",
    "Y_train = Y_train.reshape(1, X_train.shape[1])\n",
    "#we need x in nxm and y in 1xm\n",
    "X_test = X_test.T\n",
    "Y_test = Y_test.reshape(1, X_test.shape[1])"
   ]
  },
  {
   "cell_type": "code",
   "execution_count": 6,
   "id": "ce1ed59b",
   "metadata": {},
   "outputs": [],
   "source": [
    "def sigmoid(x):\n",
    "    return 1/(1 + np.exp(-x))"
   ]
  },
  {
   "cell_type": "code",
   "execution_count": 7,
   "id": "3eb3cf34",
   "metadata": {},
   "outputs": [],
   "source": [
    "def model(X, Y, learning_rate, iterations):\n",
    "    \n",
    "    m = X_train.shape[1]\n",
    "    n = X_train.shape[0]\n",
    "    \n",
    "    W = np.zeros((n,1))\n",
    "    B = 0\n",
    "    \n",
    "    cost_list = []\n",
    "    \n",
    "    for i in range(iterations):\n",
    "        \n",
    "        Z = np.dot(W.T, X) + B\n",
    "        A = sigmoid(Z)\n",
    "        \n",
    "        # cost function\n",
    "        \n",
    "        \n",
    "        # Gradient Descent\n",
    "        dW = (1/m)*np.dot(A-Y, X.T)\n",
    "        dB = (1/m)*np.sum(A - Y)\n",
    "        \n",
    "        W = W - learning_rate*dW.T\n",
    "        B = B - learning_rate*dB\n",
    "\n",
    "        \n",
    "        \n",
    "        \n",
    "        \n",
    "    return W, B"
   ]
  },
  {
   "cell_type": "code",
   "execution_count": 8,
   "id": "f7ac16c6",
   "metadata": {},
   "outputs": [],
   "source": [
    "def accuracy(X, Y, W, B):\n",
    "    \n",
    "    Z = np.dot(W.T, X) + B\n",
    "    A = sigmoid(Z)\n",
    "    \n",
    "    A = A > 0.5\n",
    "    \n",
    "    A = np.array(A, dtype = 'int64')#converting boolean to int\n",
    "    \n",
    "    acc = (1 - np.sum(np.absolute(A - Y))/Y.shape[1])*100\n",
    "    \n",
    "    return acc"
   ]
  },
  {
   "cell_type": "code",
   "execution_count": 9,
   "id": "1fb8e9af",
   "metadata": {},
   "outputs": [
    {
     "name": "stderr",
     "output_type": "stream",
     "text": [
      "C:\\Users\\HP\\AppData\\Local\\Temp\\ipykernel_21356\\3886325312.py:2: RuntimeWarning: overflow encountered in exp\n",
      "  return 1/(1 + np.exp(-x))\n"
     ]
    },
    {
     "name": "stdout",
     "output_type": "stream",
     "text": [
      "{'learning_rate': 0.012, 'iterations': 40000} 90.0\n"
     ]
    }
   ],
   "source": [
    "    #hyperparameter tuning\n",
    "    learning_rates = [0.001, 0.01, 0.008,0.012, 0.5, 1.0]\n",
    "\n",
    "    #the lists were chosen after many manual iterations to find the best hyperparameter\n",
    "    iterations = [1000, 2000, 30000, 40000, 20000,25000]\n",
    "    best_params = None\n",
    "    best_accuracy = 0.0\n",
    "\n",
    "    for lr in learning_rates:\n",
    "        for num_iterations in iterations:\n",
    "\n",
    "            # Train the model with the current hyperparameters\n",
    "            W,B=model(X_train, Y_train, learning_rate=lr, iterations=num_iterations)\n",
    "\n",
    "            acc = accuracy(X_test, Y_test,W,B)\n",
    "\n",
    "            # Update the best hyperparameters if needed\n",
    "            if acc > best_accuracy:\n",
    "                best_accuracy = acc\n",
    "                best_params = {'learning_rate': lr, 'iterations': num_iterations}\n",
    "\n",
    "    print(best_params,best_accuracy)"
   ]
  },
  {
   "cell_type": "code",
   "execution_count": null,
   "id": "9e10a212",
   "metadata": {},
   "outputs": [],
   "source": []
  }
 ],
 "metadata": {
  "kernelspec": {
   "display_name": "Python 3 (ipykernel)",
   "language": "python",
   "name": "python3"
  },
  "language_info": {
   "codemirror_mode": {
    "name": "ipython",
    "version": 3
   },
   "file_extension": ".py",
   "mimetype": "text/x-python",
   "name": "python",
   "nbconvert_exporter": "python",
   "pygments_lexer": "ipython3",
   "version": "3.11.3"
  }
 },
 "nbformat": 4,
 "nbformat_minor": 5
}
